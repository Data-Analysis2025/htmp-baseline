{
 "cells": [
  {
   "cell_type": "code",
   "execution_count": null,
   "metadata": {
    "_cell_guid": "b1076dfc-b9ad-4769-8c92-a6c4dae69d19",
    "_uuid": "8f2839f25d086af736a60e9eeb907d3b93b6e0e5",
    "trusted": true
   },
   "outputs": [],
   "source": [
    "\"\"\"\n",
    "The evaluation API requires that you set up a server which will respond to inference requests.\n",
    "We have already defined the server; you just need write the predict function.\n",
    "When we evaluate your submission on the hidden test set the client defined in `default_gateway` will run in a different container\n",
    "with direct access to the hidden test set and hand off the data timestep by timestep.\n",
    "\n",
    "Your code will always have access to the published copies of the copmetition files.\n",
    "\"\"\"\n",
    "\n",
    "import os\n",
    "\n",
    "import pandas as pd\n",
    "import polars as pl\n",
    "\n",
    "import kaggle_evaluation.default_inference_server\n",
    "\n",
    "\n",
    "def predict(test: pl.DataFrame) -> float:\n",
    "    \"\"\"Replace this function with your inference code.\n",
    "    You can return either a Pandas or Polars dataframe, though Polars is recommended for performance.\n",
    "    Each batch of predictions (except the very first) must be returned within 5 minutes of the batch features being provided.\n",
    "    \"\"\"\n",
    "    return 0.0\n",
    "\n",
    "\n",
    "# When your notebook is run on the hidden test set, inference_server.serve must be called within 15 minutes of the notebook starting\n",
    "# or the gateway will throw an error. If you need more than 15 minutes to load your model you can do so during the very\n",
    "# first `predict` call, which does not have the usual 1 minute response deadline.\n",
    "inference_server = kaggle_evaluation.default_inference_server.DefaultInferenceServer(predict)\n",
    "\n",
    "if os.getenv('KAGGLE_IS_COMPETITION_RERUN'):\n",
    "    inference_server.serve()\n",
    "else:\n",
    "    inference_server.run_local_gateway(('/kaggle/input/hull-tactical-market-prediction/',))\n"
   ]
  }
 ],
 "metadata": {
  "kaggle": {
   "accelerator": "none",
   "dataSources": [
    {
     "databundleVersionId": 13750964,
     "sourceId": 111543,
     "sourceType": "competition"
    }
   ],
   "dockerImageVersionId": 31089,
   "isGpuEnabled": false,
   "isInternetEnabled": false,
   "language": "python",
   "sourceType": "notebook"
  },
  "kernelspec": {
   "display_name": "Python 3",
   "language": "python",
   "name": "python3"
  },
  "language_info": {
   "codemirror_mode": {
    "name": "ipython",
    "version": 3
   },
   "file_extension": ".py",
   "mimetype": "text/x-python",
   "name": "python",
   "nbconvert_exporter": "python",
   "pygments_lexer": "ipython3",
   "version": "3.6.4"
  }
 },
 "nbformat": 4,
 "nbformat_minor": 4
}
